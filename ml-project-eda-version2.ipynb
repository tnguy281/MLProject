{
 "cells": [
  {
   "cell_type": "code",
   "execution_count": 1,
   "id": "5f8b77ee",
   "metadata": {
    "_cell_guid": "b1076dfc-b9ad-4769-8c92-a6c4dae69d19",
    "_uuid": "8f2839f25d086af736a60e9eeb907d3b93b6e0e5",
    "execution": {
     "iopub.execute_input": "2024-12-01T08:08:30.899306Z",
     "iopub.status.busy": "2024-12-01T08:08:30.898886Z",
     "iopub.status.idle": "2024-12-01T08:08:30.918145Z",
     "shell.execute_reply": "2024-12-01T08:08:30.916625Z"
    },
    "papermill": {
     "duration": 0.030541,
     "end_time": "2024-12-01T08:08:30.921028",
     "exception": false,
     "start_time": "2024-12-01T08:08:30.890487",
     "status": "completed"
    },
    "tags": []
   },
   "outputs": [
    {
     "name": "stdout",
     "output_type": "stream",
     "text": [
      "/kaggle/input/denver-listings/Denver_listings.csv\n",
      "/kaggle/input/seattle-listings/Seattle_listings.csv\n"
     ]
    }
   ],
   "source": [
    "\n",
    "# Input data files are available in the read-only \"../input/\" directory\n",
    "# For example, running this (by clicking run or pressing Shift+Enter) will list all files under the input directory\n",
    "\n",
    "import os\n",
    "for dirname, _, filenames in os.walk('/kaggle/input'):\n",
    "    for filename in filenames:\n",
    "        print(os.path.join(dirname, filename))\n",
    "\n",
    "# You can write up to 20GB to the current directory (/kaggle/working/) that gets preserved as output when you create a version using \"Save & Run All\" \n",
    "# You can also write temporary files to /kaggle/temp/, but they won't be saved outside of the current session"
   ]
  },
  {
   "cell_type": "code",
   "execution_count": 2,
   "id": "2deefd41",
   "metadata": {
    "execution": {
     "iopub.execute_input": "2024-12-01T08:08:30.935458Z",
     "iopub.status.busy": "2024-12-01T08:08:30.935056Z",
     "iopub.status.idle": "2024-12-01T08:08:52.645734Z",
     "shell.execute_reply": "2024-12-01T08:08:52.644243Z"
    },
    "papermill": {
     "duration": 21.721209,
     "end_time": "2024-12-01T08:08:52.648730",
     "exception": false,
     "start_time": "2024-12-01T08:08:30.927521",
     "status": "completed"
    },
    "tags": []
   },
   "outputs": [
    {
     "name": "stdout",
     "output_type": "stream",
     "text": [
      "Requirement already satisfied: seaborn in /opt/conda/lib/python3.10/site-packages (0.12.2)\r\n",
      "Requirement already satisfied: numpy!=1.24.0,>=1.17 in /opt/conda/lib/python3.10/site-packages (from seaborn) (1.26.4)\r\n",
      "Requirement already satisfied: pandas>=0.25 in /opt/conda/lib/python3.10/site-packages (from seaborn) (2.2.3)\r\n",
      "Requirement already satisfied: matplotlib!=3.6.1,>=3.1 in /opt/conda/lib/python3.10/site-packages (from seaborn) (3.7.5)\r\n",
      "Requirement already satisfied: contourpy>=1.0.1 in /opt/conda/lib/python3.10/site-packages (from matplotlib!=3.6.1,>=3.1->seaborn) (1.2.1)\r\n",
      "Requirement already satisfied: cycler>=0.10 in /opt/conda/lib/python3.10/site-packages (from matplotlib!=3.6.1,>=3.1->seaborn) (0.12.1)\r\n",
      "Requirement already satisfied: fonttools>=4.22.0 in /opt/conda/lib/python3.10/site-packages (from matplotlib!=3.6.1,>=3.1->seaborn) (4.53.0)\r\n",
      "Requirement already satisfied: kiwisolver>=1.0.1 in /opt/conda/lib/python3.10/site-packages (from matplotlib!=3.6.1,>=3.1->seaborn) (1.4.5)\r\n",
      "Requirement already satisfied: packaging>=20.0 in /opt/conda/lib/python3.10/site-packages (from matplotlib!=3.6.1,>=3.1->seaborn) (21.3)\r\n",
      "Requirement already satisfied: pillow>=6.2.0 in /opt/conda/lib/python3.10/site-packages (from matplotlib!=3.6.1,>=3.1->seaborn) (10.3.0)\r\n",
      "Requirement already satisfied: pyparsing>=2.3.1 in /opt/conda/lib/python3.10/site-packages (from matplotlib!=3.6.1,>=3.1->seaborn) (3.1.2)\r\n",
      "Requirement already satisfied: python-dateutil>=2.7 in /opt/conda/lib/python3.10/site-packages (from matplotlib!=3.6.1,>=3.1->seaborn) (2.9.0.post0)\r\n",
      "Requirement already satisfied: pytz>=2020.1 in /opt/conda/lib/python3.10/site-packages (from pandas>=0.25->seaborn) (2024.1)\r\n",
      "Requirement already satisfied: tzdata>=2022.7 in /opt/conda/lib/python3.10/site-packages (from pandas>=0.25->seaborn) (2024.1)\r\n",
      "Requirement already satisfied: six>=1.5 in /opt/conda/lib/python3.10/site-packages (from python-dateutil>=2.7->matplotlib!=3.6.1,>=3.1->seaborn) (1.16.0)\r\n",
      "Note: you may need to restart the kernel to use updated packages.\n",
      "Requirement already satisfied: plotly in /opt/conda/lib/python3.10/site-packages (5.22.0)\r\n",
      "Requirement already satisfied: tenacity>=6.2.0 in /opt/conda/lib/python3.10/site-packages (from plotly) (8.3.0)\r\n",
      "Requirement already satisfied: packaging in /opt/conda/lib/python3.10/site-packages (from plotly) (21.3)\r\n",
      "Requirement already satisfied: pyparsing!=3.0.5,>=2.0.2 in /opt/conda/lib/python3.10/site-packages (from packaging->plotly) (3.1.2)\r\n",
      "Note: you may need to restart the kernel to use updated packages.\n"
     ]
    }
   ],
   "source": [
    "%pip install seaborn\n",
    "%pip install plotly"
   ]
  },
  {
   "cell_type": "code",
   "execution_count": 3,
   "id": "5a8a714a",
   "metadata": {
    "execution": {
     "iopub.execute_input": "2024-12-01T08:08:52.663165Z",
     "iopub.status.busy": "2024-12-01T08:08:52.662515Z",
     "iopub.status.idle": "2024-12-01T08:08:56.400125Z",
     "shell.execute_reply": "2024-12-01T08:08:56.399054Z"
    },
    "papermill": {
     "duration": 3.747965,
     "end_time": "2024-12-01T08:08:56.403066",
     "exception": false,
     "start_time": "2024-12-01T08:08:52.655101",
     "status": "completed"
    },
    "tags": []
   },
   "outputs": [],
   "source": [
    "# Importing the necessary libraries\n",
    "import pandas as pd\n",
    "import matplotlib.pyplot as plt\n",
    "import seaborn as sns\n",
    "import plotly.graph_objects as go\n",
    "import plotly.express as px\n",
    "\n",
    "# Loading in the datasets\n",
    "data1 = pd.read_csv('/kaggle/input/denver-listings/Denver_listings.csv')\n",
    "data2 = pd.read_csv('/kaggle/input/seattle-listings/Seattle_listings.csv')"
   ]
  },
  {
   "cell_type": "code",
   "execution_count": 4,
   "id": "8e2f0cea",
   "metadata": {
    "execution": {
     "iopub.execute_input": "2024-12-01T08:08:56.416861Z",
     "iopub.status.busy": "2024-12-01T08:08:56.416422Z",
     "iopub.status.idle": "2024-12-01T08:08:56.446378Z",
     "shell.execute_reply": "2024-12-01T08:08:56.445267Z"
    },
    "papermill": {
     "duration": 0.039502,
     "end_time": "2024-12-01T08:08:56.448499",
     "exception": false,
     "start_time": "2024-12-01T08:08:56.408997",
     "status": "completed"
    },
    "tags": []
   },
   "outputs": [
    {
     "data": {
      "text/html": [
       "<div>\n",
       "<style scoped>\n",
       "    .dataframe tbody tr th:only-of-type {\n",
       "        vertical-align: middle;\n",
       "    }\n",
       "\n",
       "    .dataframe tbody tr th {\n",
       "        vertical-align: top;\n",
       "    }\n",
       "\n",
       "    .dataframe thead th {\n",
       "        text-align: right;\n",
       "    }\n",
       "</style>\n",
       "<table border=\"1\" class=\"dataframe\">\n",
       "  <thead>\n",
       "    <tr style=\"text-align: right;\">\n",
       "      <th></th>\n",
       "      <th>id</th>\n",
       "      <th>name</th>\n",
       "      <th>host_id</th>\n",
       "      <th>host_name</th>\n",
       "      <th>neighbourhood_group</th>\n",
       "      <th>neighbourhood</th>\n",
       "      <th>latitude</th>\n",
       "      <th>longitude</th>\n",
       "      <th>room_type</th>\n",
       "      <th>price</th>\n",
       "      <th>minimum_nights</th>\n",
       "      <th>number_of_reviews</th>\n",
       "      <th>last_review</th>\n",
       "      <th>reviews_per_month</th>\n",
       "      <th>calculated_host_listings_count</th>\n",
       "      <th>availability_365</th>\n",
       "      <th>number_of_reviews_ltm</th>\n",
       "      <th>license</th>\n",
       "    </tr>\n",
       "  </thead>\n",
       "  <tbody>\n",
       "    <tr>\n",
       "      <th>0</th>\n",
       "      <td>360</td>\n",
       "      <td>Sit in the Peaceful Garden of the Chickadee Co...</td>\n",
       "      <td>666</td>\n",
       "      <td>Jennifer &amp; Giovanni</td>\n",
       "      <td>NaN</td>\n",
       "      <td>Highland</td>\n",
       "      <td>39.766415</td>\n",
       "      <td>-105.002098</td>\n",
       "      <td>Entire home/apt</td>\n",
       "      <td>161.0</td>\n",
       "      <td>30</td>\n",
       "      <td>181</td>\n",
       "      <td>2024-03-02</td>\n",
       "      <td>2.53</td>\n",
       "      <td>2</td>\n",
       "      <td>110</td>\n",
       "      <td>3</td>\n",
       "      <td>2017-BFN-0002177</td>\n",
       "    </tr>\n",
       "    <tr>\n",
       "      <th>1</th>\n",
       "      <td>364</td>\n",
       "      <td>Lodo / RiNo LOFT  via airport train</td>\n",
       "      <td>783</td>\n",
       "      <td>Jason</td>\n",
       "      <td>NaN</td>\n",
       "      <td>Five Points</td>\n",
       "      <td>39.766720</td>\n",
       "      <td>-104.979060</td>\n",
       "      <td>Entire home/apt</td>\n",
       "      <td>179.0</td>\n",
       "      <td>185</td>\n",
       "      <td>87</td>\n",
       "      <td>2016-04-26</td>\n",
       "      <td>0.47</td>\n",
       "      <td>1</td>\n",
       "      <td>358</td>\n",
       "      <td>0</td>\n",
       "      <td>NaN</td>\n",
       "    </tr>\n",
       "    <tr>\n",
       "      <th>2</th>\n",
       "      <td>590</td>\n",
       "      <td>Comfortable  - and a great value!</td>\n",
       "      <td>933</td>\n",
       "      <td>Jill</td>\n",
       "      <td>NaN</td>\n",
       "      <td>North Park Hill</td>\n",
       "      <td>39.755110</td>\n",
       "      <td>-104.911090</td>\n",
       "      <td>Private room</td>\n",
       "      <td>70.0</td>\n",
       "      <td>1</td>\n",
       "      <td>726</td>\n",
       "      <td>2024-05-22</td>\n",
       "      <td>3.91</td>\n",
       "      <td>2</td>\n",
       "      <td>236</td>\n",
       "      <td>24</td>\n",
       "      <td>2021-BFN-0000578</td>\n",
       "    </tr>\n",
       "    <tr>\n",
       "      <th>3</th>\n",
       "      <td>592</td>\n",
       "      <td>private</td>\n",
       "      <td>933</td>\n",
       "      <td>Jill</td>\n",
       "      <td>NaN</td>\n",
       "      <td>North Park Hill</td>\n",
       "      <td>39.754810</td>\n",
       "      <td>-104.911060</td>\n",
       "      <td>Private room</td>\n",
       "      <td>64.0</td>\n",
       "      <td>15</td>\n",
       "      <td>175</td>\n",
       "      <td>2024-06-02</td>\n",
       "      <td>0.94</td>\n",
       "      <td>2</td>\n",
       "      <td>219</td>\n",
       "      <td>7</td>\n",
       "      <td>2021-BFN-0000578</td>\n",
       "    </tr>\n",
       "    <tr>\n",
       "      <th>4</th>\n",
       "      <td>1940</td>\n",
       "      <td>Baker Studio: Private-full kitchen-W/D-walkable</td>\n",
       "      <td>2150</td>\n",
       "      <td>Joanne</td>\n",
       "      <td>NaN</td>\n",
       "      <td>Baker</td>\n",
       "      <td>39.720205</td>\n",
       "      <td>-104.997499</td>\n",
       "      <td>Entire home/apt</td>\n",
       "      <td>88.0</td>\n",
       "      <td>1</td>\n",
       "      <td>183</td>\n",
       "      <td>2024-06-27</td>\n",
       "      <td>2.02</td>\n",
       "      <td>1</td>\n",
       "      <td>231</td>\n",
       "      <td>51</td>\n",
       "      <td>2018-BFN-0002596</td>\n",
       "    </tr>\n",
       "  </tbody>\n",
       "</table>\n",
       "</div>"
      ],
      "text/plain": [
       "     id                                               name  host_id  \\\n",
       "0   360  Sit in the Peaceful Garden of the Chickadee Co...      666   \n",
       "1   364                Lodo / RiNo LOFT  via airport train      783   \n",
       "2   590                  Comfortable  - and a great value!      933   \n",
       "3   592                                            private      933   \n",
       "4  1940    Baker Studio: Private-full kitchen-W/D-walkable     2150   \n",
       "\n",
       "             host_name  neighbourhood_group    neighbourhood   latitude  \\\n",
       "0  Jennifer & Giovanni                  NaN         Highland  39.766415   \n",
       "1                Jason                  NaN      Five Points  39.766720   \n",
       "2                 Jill                  NaN  North Park Hill  39.755110   \n",
       "3                 Jill                  NaN  North Park Hill  39.754810   \n",
       "4               Joanne                  NaN            Baker  39.720205   \n",
       "\n",
       "    longitude        room_type  price  minimum_nights  number_of_reviews  \\\n",
       "0 -105.002098  Entire home/apt  161.0              30                181   \n",
       "1 -104.979060  Entire home/apt  179.0             185                 87   \n",
       "2 -104.911090     Private room   70.0               1                726   \n",
       "3 -104.911060     Private room   64.0              15                175   \n",
       "4 -104.997499  Entire home/apt   88.0               1                183   \n",
       "\n",
       "  last_review  reviews_per_month  calculated_host_listings_count  \\\n",
       "0  2024-03-02               2.53                               2   \n",
       "1  2016-04-26               0.47                               1   \n",
       "2  2024-05-22               3.91                               2   \n",
       "3  2024-06-02               0.94                               2   \n",
       "4  2024-06-27               2.02                               1   \n",
       "\n",
       "   availability_365  number_of_reviews_ltm           license  \n",
       "0               110                      3  2017-BFN-0002177  \n",
       "1               358                      0               NaN  \n",
       "2               236                     24  2021-BFN-0000578  \n",
       "3               219                      7  2021-BFN-0000578  \n",
       "4               231                     51  2018-BFN-0002596  "
      ]
     },
     "execution_count": 4,
     "metadata": {},
     "output_type": "execute_result"
    }
   ],
   "source": [
    "# Getting the descriptive information for the Denver listings\n",
    "data1.head()"
   ]
  },
  {
   "cell_type": "code",
   "execution_count": 5,
   "id": "fb1f6e27",
   "metadata": {
    "execution": {
     "iopub.execute_input": "2024-12-01T08:08:56.464359Z",
     "iopub.status.busy": "2024-12-01T08:08:56.463947Z",
     "iopub.status.idle": "2024-12-01T08:08:56.484999Z",
     "shell.execute_reply": "2024-12-01T08:08:56.483887Z"
    },
    "papermill": {
     "duration": 0.032095,
     "end_time": "2024-12-01T08:08:56.487270",
     "exception": false,
     "start_time": "2024-12-01T08:08:56.455175",
     "status": "completed"
    },
    "tags": []
   },
   "outputs": [
    {
     "data": {
      "text/html": [
       "<div>\n",
       "<style scoped>\n",
       "    .dataframe tbody tr th:only-of-type {\n",
       "        vertical-align: middle;\n",
       "    }\n",
       "\n",
       "    .dataframe tbody tr th {\n",
       "        vertical-align: top;\n",
       "    }\n",
       "\n",
       "    .dataframe thead th {\n",
       "        text-align: right;\n",
       "    }\n",
       "</style>\n",
       "<table border=\"1\" class=\"dataframe\">\n",
       "  <thead>\n",
       "    <tr style=\"text-align: right;\">\n",
       "      <th></th>\n",
       "      <th>id</th>\n",
       "      <th>name</th>\n",
       "      <th>host_id</th>\n",
       "      <th>host_name</th>\n",
       "      <th>neighbourhood_group</th>\n",
       "      <th>neighbourhood</th>\n",
       "      <th>latitude</th>\n",
       "      <th>longitude</th>\n",
       "      <th>room_type</th>\n",
       "      <th>price</th>\n",
       "      <th>minimum_nights</th>\n",
       "      <th>number_of_reviews</th>\n",
       "      <th>last_review</th>\n",
       "      <th>reviews_per_month</th>\n",
       "      <th>calculated_host_listings_count</th>\n",
       "      <th>availability_365</th>\n",
       "      <th>number_of_reviews_ltm</th>\n",
       "      <th>license</th>\n",
       "    </tr>\n",
       "  </thead>\n",
       "  <tbody>\n",
       "    <tr>\n",
       "      <th>0</th>\n",
       "      <td>6606</td>\n",
       "      <td>Fab, private seattle urban cottage!</td>\n",
       "      <td>14942</td>\n",
       "      <td>Joyce</td>\n",
       "      <td>Other neighborhoods</td>\n",
       "      <td>Wallingford</td>\n",
       "      <td>47.65444</td>\n",
       "      <td>-122.33629</td>\n",
       "      <td>Entire home/apt</td>\n",
       "      <td>99.0</td>\n",
       "      <td>30</td>\n",
       "      <td>160</td>\n",
       "      <td>2023-08-05</td>\n",
       "      <td>0.88</td>\n",
       "      <td>2</td>\n",
       "      <td>147</td>\n",
       "      <td>1</td>\n",
       "      <td>str-opli-19-002622</td>\n",
       "    </tr>\n",
       "    <tr>\n",
       "      <th>1</th>\n",
       "      <td>9419</td>\n",
       "      <td>Glorious sun room w/ memory foambed</td>\n",
       "      <td>30559</td>\n",
       "      <td>Angielena</td>\n",
       "      <td>Other neighborhoods</td>\n",
       "      <td>Georgetown</td>\n",
       "      <td>47.55017</td>\n",
       "      <td>-122.31937</td>\n",
       "      <td>Private room</td>\n",
       "      <td>76.0</td>\n",
       "      <td>2</td>\n",
       "      <td>196</td>\n",
       "      <td>2024-06-09</td>\n",
       "      <td>1.16</td>\n",
       "      <td>10</td>\n",
       "      <td>337</td>\n",
       "      <td>15</td>\n",
       "      <td>Exempt</td>\n",
       "    </tr>\n",
       "    <tr>\n",
       "      <th>2</th>\n",
       "      <td>9531</td>\n",
       "      <td>The Adorable Sweet Orange Craftsman</td>\n",
       "      <td>31481</td>\n",
       "      <td>Cassie</td>\n",
       "      <td>West Seattle</td>\n",
       "      <td>Fairmount Park</td>\n",
       "      <td>47.55495</td>\n",
       "      <td>-122.38663</td>\n",
       "      <td>Entire home/apt</td>\n",
       "      <td>189.0</td>\n",
       "      <td>3</td>\n",
       "      <td>97</td>\n",
       "      <td>2024-06-16</td>\n",
       "      <td>0.64</td>\n",
       "      <td>2</td>\n",
       "      <td>133</td>\n",
       "      <td>23</td>\n",
       "      <td>STR-OPLI-19-002182</td>\n",
       "    </tr>\n",
       "    <tr>\n",
       "      <th>3</th>\n",
       "      <td>9534</td>\n",
       "      <td>The Coolest Tangerine Dream MIL!</td>\n",
       "      <td>31481</td>\n",
       "      <td>Cassie</td>\n",
       "      <td>West Seattle</td>\n",
       "      <td>Fairmount Park</td>\n",
       "      <td>47.55627</td>\n",
       "      <td>-122.38607</td>\n",
       "      <td>Entire home/apt</td>\n",
       "      <td>125.0</td>\n",
       "      <td>2</td>\n",
       "      <td>77</td>\n",
       "      <td>2023-12-27</td>\n",
       "      <td>0.51</td>\n",
       "      <td>2</td>\n",
       "      <td>1</td>\n",
       "      <td>2</td>\n",
       "      <td>STR-OPLI-19-002182</td>\n",
       "    </tr>\n",
       "    <tr>\n",
       "      <th>4</th>\n",
       "      <td>9596</td>\n",
       "      <td>the down home , spacious, central and fab!</td>\n",
       "      <td>14942</td>\n",
       "      <td>Joyce</td>\n",
       "      <td>Other neighborhoods</td>\n",
       "      <td>Wallingford</td>\n",
       "      <td>47.65608</td>\n",
       "      <td>-122.33602</td>\n",
       "      <td>Entire home/apt</td>\n",
       "      <td>NaN</td>\n",
       "      <td>30</td>\n",
       "      <td>96</td>\n",
       "      <td>2020-09-28</td>\n",
       "      <td>0.61</td>\n",
       "      <td>2</td>\n",
       "      <td>16</td>\n",
       "      <td>0</td>\n",
       "      <td>STR -OPLI-19-002622</td>\n",
       "    </tr>\n",
       "  </tbody>\n",
       "</table>\n",
       "</div>"
      ],
      "text/plain": [
       "     id                                        name  host_id  host_name  \\\n",
       "0  6606         Fab, private seattle urban cottage!    14942      Joyce   \n",
       "1  9419         Glorious sun room w/ memory foambed    30559  Angielena   \n",
       "2  9531         The Adorable Sweet Orange Craftsman    31481     Cassie   \n",
       "3  9534            The Coolest Tangerine Dream MIL!    31481     Cassie   \n",
       "4  9596  the down home , spacious, central and fab!    14942      Joyce   \n",
       "\n",
       "   neighbourhood_group   neighbourhood  latitude  longitude        room_type  \\\n",
       "0  Other neighborhoods     Wallingford  47.65444 -122.33629  Entire home/apt   \n",
       "1  Other neighborhoods      Georgetown  47.55017 -122.31937     Private room   \n",
       "2         West Seattle  Fairmount Park  47.55495 -122.38663  Entire home/apt   \n",
       "3         West Seattle  Fairmount Park  47.55627 -122.38607  Entire home/apt   \n",
       "4  Other neighborhoods     Wallingford  47.65608 -122.33602  Entire home/apt   \n",
       "\n",
       "   price  minimum_nights  number_of_reviews last_review  reviews_per_month  \\\n",
       "0   99.0              30                160  2023-08-05               0.88   \n",
       "1   76.0               2                196  2024-06-09               1.16   \n",
       "2  189.0               3                 97  2024-06-16               0.64   \n",
       "3  125.0               2                 77  2023-12-27               0.51   \n",
       "4    NaN              30                 96  2020-09-28               0.61   \n",
       "\n",
       "   calculated_host_listings_count  availability_365  number_of_reviews_ltm  \\\n",
       "0                               2               147                      1   \n",
       "1                              10               337                     15   \n",
       "2                               2               133                     23   \n",
       "3                               2                 1                      2   \n",
       "4                               2                16                      0   \n",
       "\n",
       "               license  \n",
       "0   str-opli-19-002622  \n",
       "1               Exempt  \n",
       "2   STR-OPLI-19-002182  \n",
       "3   STR-OPLI-19-002182  \n",
       "4  STR -OPLI-19-002622  "
      ]
     },
     "execution_count": 5,
     "metadata": {},
     "output_type": "execute_result"
    }
   ],
   "source": [
    "# Getting the descriptive information for the Seattle listings\n",
    "data2.head()"
   ]
  },
  {
   "cell_type": "code",
   "execution_count": 6,
   "id": "ee6bb007",
   "metadata": {
    "execution": {
     "iopub.execute_input": "2024-12-01T08:08:56.502069Z",
     "iopub.status.busy": "2024-12-01T08:08:56.501615Z",
     "iopub.status.idle": "2024-12-01T08:08:56.557173Z",
     "shell.execute_reply": "2024-12-01T08:08:56.555958Z"
    },
    "papermill": {
     "duration": 0.06575,
     "end_time": "2024-12-01T08:08:56.559612",
     "exception": false,
     "start_time": "2024-12-01T08:08:56.493862",
     "status": "completed"
    },
    "tags": []
   },
   "outputs": [],
   "source": [
    "# CLeaning and prepping the dataset for Denver\n",
    "\n",
    "# Convert 'last review' to datetime and handle errors\n",
    "data1['last_review'] = pd.to_datetime(data1['last_review'], errors='coerce')\n",
    "# Fill missing values\n",
    "data1.fillna({'reviews per month': 0, 'last review': data1['last_review'].min()}, inplace=True)\n",
    "# Drop records with missing 'name' or 'host name'\n",
    "data1.dropna(subset=['name', 'host_name'], inplace=True)\n",
    "\n",
    "# CLeaning and prepping the dataset for Seattle\n",
    "\n",
    "# Convert 'last review' to datetime and handle errors\n",
    "data2['last_review'] = pd.to_datetime(data2['last_review'], errors='coerce')\n",
    "# Fill missing values\n",
    "data2.fillna({'reviews per month': 0, 'last review': data2['last_review'].min()}, inplace=True)\n",
    "# Drop records with missing 'name' or 'host name'\n",
    "data2.dropna(subset=['name', 'host_name'], inplace=True)\n",
    "\n",
    "# Checking and removing any duplicates in both datasets\n",
    "data1.drop_duplicates(inplace=True)\n",
    "data2.drop_duplicates(inplace=True)"
   ]
  },
  {
   "cell_type": "code",
   "execution_count": 7,
   "id": "da7c6736",
   "metadata": {
    "execution": {
     "iopub.execute_input": "2024-12-01T08:08:56.574719Z",
     "iopub.status.busy": "2024-12-01T08:08:56.573627Z",
     "iopub.status.idle": "2024-12-01T08:08:56.620254Z",
     "shell.execute_reply": "2024-12-01T08:08:56.618855Z"
    },
    "papermill": {
     "duration": 0.056889,
     "end_time": "2024-12-01T08:08:56.622883",
     "exception": false,
     "start_time": "2024-12-01T08:08:56.565994",
     "status": "completed"
    },
    "tags": []
   },
   "outputs": [
    {
     "name": "stdout",
     "output_type": "stream",
     "text": [
      "                 id       host_id  neighbourhood_group     latitude  \\\n",
      "count  5.016000e+03  5.016000e+03                  0.0  5016.000000   \n",
      "mean   4.808710e+17  1.581792e+08                  NaN    39.742546   \n",
      "min    3.600000e+02  5.890000e+02                  NaN    39.626588   \n",
      "25%    3.994188e+07  2.378105e+07                  NaN    39.728818   \n",
      "50%    6.137098e+17  8.033043e+07                  NaN    39.749547   \n",
      "75%    9.201500e+17  2.526839e+08                  NaN    39.763063   \n",
      "max    1.189315e+18  5.857442e+08                  NaN    39.847417   \n",
      "std    4.614996e+17  1.708323e+08                  NaN     0.031773   \n",
      "\n",
      "         longitude         price  minimum_nights  number_of_reviews  \\\n",
      "count  5016.000000   4638.000000     5016.000000        5016.000000   \n",
      "mean   -104.976528    382.726822       15.402711          62.196172   \n",
      "min    -105.102804     17.000000        1.000000           0.000000   \n",
      "25%    -105.017746     95.000000        2.000000           3.000000   \n",
      "50%    -104.985150    138.000000        3.000000          18.000000   \n",
      "75%    -104.959073    219.000000       29.000000          74.000000   \n",
      "max    -104.673817  99713.000000      500.000000        1529.000000   \n",
      "std       0.061273   4064.858584       20.293866         109.832777   \n",
      "\n",
      "                         last_review  reviews_per_month  \\\n",
      "count                           4393        4393.000000   \n",
      "mean   2024-02-04 16:26:39.635784192           1.951974   \n",
      "min              2011-12-13 00:00:00           0.010000   \n",
      "25%              2024-02-07 00:00:00           0.370000   \n",
      "50%              2024-06-05 00:00:00           1.330000   \n",
      "75%              2024-06-22 00:00:00           2.880000   \n",
      "max              2024-06-29 00:00:00          25.800000   \n",
      "std                              NaN           2.062880   \n",
      "\n",
      "       calculated_host_listings_count  availability_365  number_of_reviews_ltm  \n",
      "count                     5016.000000       5016.000000            5016.000000  \n",
      "mean                         7.831738        185.214912              14.974083  \n",
      "min                          1.000000          0.000000               0.000000  \n",
      "25%                          1.000000         78.000000               1.000000  \n",
      "50%                          1.000000        181.000000               5.000000  \n",
      "75%                          3.000000        302.000000              22.000000  \n",
      "max                         97.000000        365.000000             314.000000  \n",
      "std                         18.289987        118.205523              21.683763  \n"
     ]
    }
   ],
   "source": [
    "# Looking at the descriptive statistics for Denver\n",
    "print(data1.describe())"
   ]
  },
  {
   "cell_type": "code",
   "execution_count": 8,
   "id": "5c951212",
   "metadata": {
    "execution": {
     "iopub.execute_input": "2024-12-01T08:08:56.638134Z",
     "iopub.status.busy": "2024-12-01T08:08:56.637708Z",
     "iopub.status.idle": "2024-12-01T08:08:56.677421Z",
     "shell.execute_reply": "2024-12-01T08:08:56.676136Z"
    },
    "papermill": {
     "duration": 0.05059,
     "end_time": "2024-12-01T08:08:56.680056",
     "exception": false,
     "start_time": "2024-12-01T08:08:56.629466",
     "status": "completed"
    },
    "tags": []
   },
   "outputs": [
    {
     "name": "stdout",
     "output_type": "stream",
     "text": [
      "                 id       host_id     latitude    longitude        price  \\\n",
      "count  6.442000e+03  6.442000e+03  6442.000000  6442.000000  6011.000000   \n",
      "mean   4.778906e+17  1.561396e+08    47.626021  -122.334359   212.495092   \n",
      "min    6.606000e+03  4.193000e+03    47.495874  -122.419040    10.000000   \n",
      "25%    3.418163e+07  1.987743e+07    47.601655  -122.357278   116.000000   \n",
      "50%    6.144249e+17  8.033375e+07    47.623220  -122.332260   167.000000   \n",
      "75%    9.319134e+17  2.552755e+08    47.663776  -122.310931   250.000000   \n",
      "max    1.185488e+18  5.848754e+08    47.734087  -122.240870  9000.000000   \n",
      "std    4.635029e+17  1.730557e+08     0.048794     0.033425   222.397718   \n",
      "\n",
      "       minimum_nights  number_of_reviews                    last_review  \\\n",
      "count     6442.000000        6442.000000                           5601   \n",
      "mean        11.127134          74.720584  2024-02-22 04:02:26.545260032   \n",
      "min          1.000000           0.000000            2015-03-07 00:00:00   \n",
      "25%          2.000000           4.000000            2024-04-06 00:00:00   \n",
      "50%          2.000000          29.000000            2024-06-07 00:00:00   \n",
      "75%         30.000000          97.000000            2024-06-16 00:00:00   \n",
      "max        365.000000        1404.000000            2024-06-24 00:00:00   \n",
      "std         18.466967         114.938072                            NaN   \n",
      "\n",
      "       reviews_per_month  calculated_host_listings_count  availability_365  \\\n",
      "count        5601.000000                     6442.000000       6442.000000   \n",
      "mean            2.264496                       29.113319        183.257529   \n",
      "min             0.010000                        1.000000          0.000000   \n",
      "25%             0.670000                        1.000000         81.000000   \n",
      "50%             1.780000                        2.000000        178.000000   \n",
      "75%             3.320000                       11.000000        295.000000   \n",
      "max           101.200000                      340.000000        365.000000   \n",
      "std             2.572886                       77.237314        116.273916   \n",
      "\n",
      "       number_of_reviews_ltm  \n",
      "count            6442.000000  \n",
      "mean               18.679913  \n",
      "min                 0.000000  \n",
      "25%                 1.000000  \n",
      "50%                10.000000  \n",
      "75%                30.000000  \n",
      "max               280.000000  \n",
      "std                22.792994  \n"
     ]
    }
   ],
   "source": [
    "# Looking at the descriptive statistics for Seattle\n",
    "print(data2.describe())"
   ]
  },
  {
   "cell_type": "markdown",
   "id": "4482bf5f",
   "metadata": {
    "papermill": {
     "duration": 0.006824,
     "end_time": "2024-12-01T08:08:56.693993",
     "exception": false,
     "start_time": "2024-12-01T08:08:56.687169",
     "status": "completed"
    },
    "tags": []
   },
   "source": [
    "# The following codes and visualizations of Denver and Seattle are to show the distribution and popularity of each room type"
   ]
  },
  {
   "cell_type": "code",
   "execution_count": 9,
   "id": "733f5d07",
   "metadata": {
    "execution": {
     "iopub.execute_input": "2024-12-01T08:08:56.710809Z",
     "iopub.status.busy": "2024-12-01T08:08:56.709765Z",
     "iopub.status.idle": "2024-12-01T08:08:58.710447Z",
     "shell.execute_reply": "2024-12-01T08:08:58.709125Z"
    },
    "papermill": {
     "duration": 2.010902,
     "end_time": "2024-12-01T08:08:58.712678",
     "exception": false,
     "start_time": "2024-12-01T08:08:56.701776",
     "status": "completed"
    },
    "tags": []
   },
   "outputs": [
    {
     "data": {
      "text/html": [
       "<iframe\n",
       "    scrolling=\"no\"\n",
       "    width=\"100%\"\n",
       "    height=\"545px\"\n",
       "    src=\"iframe_figures/figure_9.html\"\n",
       "    frameborder=\"0\"\n",
       "    allowfullscreen\n",
       "></iframe>\n"
      ]
     },
     "metadata": {},
     "output_type": "display_data"
    }
   ],
   "source": [
    "# Plotting the dataset for Denver\n",
    "\n",
    "# Aggregating the data to count occurrences of each room type\n",
    "room_type_counts = data1['room_type'].value_counts()\n",
    "\n",
    "# Creating the bar chart\n",
    "fig = go.Figure()\n",
    "\n",
    "fig.add_trace(go.Bar(\n",
    "    x=room_type_counts.index,  # Room types as categories\n",
    "    y=room_type_counts.values,  # Counts of each room type\n",
    "    marker_color='lightgreen'  # Set a color for the bars\n",
    "))\n",
    "\n",
    "# Customizing the layout\n",
    "fig.update_layout(\n",
    "    title=\"Distribution of Room Types for Denver\",\n",
    "    xaxis_title=\"Room Type\",\n",
    "    yaxis_title=\"Count\",\n",
    "    template=\"plotly_white\"\n",
    ")\n",
    "\n",
    "# Set the renderer\n",
    "import plotly.io as pio\n",
    "pio.renderers.default = 'iframe'\n",
    "\n",
    "# Displaying the chart\n",
    "fig.show()"
   ]
  },
  {
   "cell_type": "markdown",
   "id": "d46f3ae6",
   "metadata": {
    "papermill": {
     "duration": 0.008359,
     "end_time": "2024-12-01T08:08:58.732214",
     "exception": false,
     "start_time": "2024-12-01T08:08:58.723855",
     "status": "completed"
    },
    "tags": []
   },
   "source": [
    "The visual above shows Denver's distribution and popularity between each room type and they include an entire room/apts (4,284), private rooms (673), shared rooms (37), and hotel rooms (22). \n"
   ]
  },
  {
   "cell_type": "code",
   "execution_count": 10,
   "id": "60583807",
   "metadata": {
    "execution": {
     "iopub.execute_input": "2024-12-01T08:08:58.749387Z",
     "iopub.status.busy": "2024-12-01T08:08:58.748911Z",
     "iopub.status.idle": "2024-12-01T08:08:58.829206Z",
     "shell.execute_reply": "2024-12-01T08:08:58.828220Z"
    },
    "papermill": {
     "duration": 0.091563,
     "end_time": "2024-12-01T08:08:58.831374",
     "exception": false,
     "start_time": "2024-12-01T08:08:58.739811",
     "status": "completed"
    },
    "tags": []
   },
   "outputs": [
    {
     "data": {
      "text/html": [
       "<iframe\n",
       "    scrolling=\"no\"\n",
       "    width=\"100%\"\n",
       "    height=\"545px\"\n",
       "    src=\"iframe_figures/figure_10.html\"\n",
       "    frameborder=\"0\"\n",
       "    allowfullscreen\n",
       "></iframe>\n"
      ]
     },
     "metadata": {},
     "output_type": "display_data"
    }
   ],
   "source": [
    "# Plotting the dataset for Seattle\n",
    "\n",
    "# Aggregating the data to count occurrences of each room type\n",
    "room_type_counts = data2['room_type'].value_counts()\n",
    "\n",
    "# Creating the bar chart\n",
    "fig = go.Figure()\n",
    "\n",
    "fig.add_trace(go.Bar(\n",
    "    x=room_type_counts.index,  # Room types as categories\n",
    "    y=room_type_counts.values,  # Counts of each room type\n",
    "    marker_color='hotpink'  # Set a color for the bars\n",
    "))\n",
    "\n",
    "# Customizing the layout\n",
    "fig.update_layout(\n",
    "    title=\"Distribution of Room Types for Seattle\",\n",
    "    xaxis_title=\"Room Type\",\n",
    "    yaxis_title=\"Count\",\n",
    "    template=\"plotly_white\"\n",
    ")\n",
    "\n",
    "# Set the renderer\n",
    "import plotly.io as pio\n",
    "pio.renderers.default = 'iframe'\n",
    "\n",
    "# Displaying the chart\n",
    "fig.show()"
   ]
  },
  {
   "cell_type": "markdown",
   "id": "755f0807",
   "metadata": {
    "papermill": {
     "duration": 0.006951,
     "end_time": "2024-12-01T08:08:58.845518",
     "exception": false,
     "start_time": "2024-12-01T08:08:58.838567",
     "status": "completed"
    },
    "tags": []
   },
   "source": [
    "The visual above represents the popularity and distribution of each room type that are available in Seattle entire homes/apts (5,387), private rooms (1,024), hotel rooms (21), and shared rooms (10)"
   ]
  },
  {
   "cell_type": "markdown",
   "id": "5f95d1c9",
   "metadata": {
    "papermill": {
     "duration": 0.006436,
     "end_time": "2024-12-01T08:08:58.858765",
     "exception": false,
     "start_time": "2024-12-01T08:08:58.852329",
     "status": "completed"
    },
    "tags": []
   },
   "source": [
    "# The following code and visualization is for Denver's and Seattle's amount of listings per neighbourhood"
   ]
  },
  {
   "cell_type": "code",
   "execution_count": 11,
   "id": "e66c4c74",
   "metadata": {
    "execution": {
     "iopub.execute_input": "2024-12-01T08:08:58.876488Z",
     "iopub.status.busy": "2024-12-01T08:08:58.876064Z",
     "iopub.status.idle": "2024-12-01T08:08:58.954358Z",
     "shell.execute_reply": "2024-12-01T08:08:58.953160Z"
    },
    "papermill": {
     "duration": 0.090654,
     "end_time": "2024-12-01T08:08:58.957237",
     "exception": false,
     "start_time": "2024-12-01T08:08:58.866583",
     "status": "completed"
    },
    "tags": []
   },
   "outputs": [
    {
     "data": {
      "text/html": [
       "<iframe\n",
       "    scrolling=\"no\"\n",
       "    width=\"100%\"\n",
       "    height=\"545px\"\n",
       "    src=\"iframe_figures/figure_11.html\"\n",
       "    frameborder=\"0\"\n",
       "    allowfullscreen\n",
       "></iframe>\n"
      ]
     },
     "metadata": {},
     "output_type": "display_data"
    }
   ],
   "source": [
    "# Plotting the dataset for Denver\n",
    "\n",
    "# Aggregating the data to count occurrences of each neighbourhood\n",
    "counts = data1['neighbourhood'].value_counts()\n",
    "\n",
    "# Creating the bar chart\n",
    "fig = go.Figure()\n",
    "\n",
    "fig.add_trace(go.Bar(\n",
    "    x=counts.index,  # Neighbourhood as categories\n",
    "    y=counts.values,  # Counts of each room type\n",
    "    marker_color='red'  # Set a color for the bars\n",
    "))\n",
    "\n",
    "# Customizing the layout\n",
    "fig.update_layout(\n",
    "    title=\"Distribution of Listings for Denvers' Neighbourhoods\",\n",
    "    xaxis_title=\"Neighbourhoods\",\n",
    "    yaxis_title=\"Count\",\n",
    "    template=\"plotly_white\"\n",
    ")\n",
    "\n",
    "# Set the renderer \n",
    "import plotly.io as pio\n",
    "pio.renderers.default = 'iframe'\n",
    "\n",
    "# Displaying the chart\n",
    "fig.show()"
   ]
  },
  {
   "cell_type": "markdown",
   "id": "1a6b5284",
   "metadata": {
    "papermill": {
     "duration": 0.00634,
     "end_time": "2024-12-01T08:08:58.970585",
     "exception": false,
     "start_time": "2024-12-01T08:08:58.964245",
     "status": "completed"
    },
    "tags": []
   },
   "source": [
    "The top 5 most popular neighbourhoods to book an Airbnb would be Five Points (426), Highland (290), West Colfax (224), Union Station (210), and Gateway - Green Valley Ranch (181)."
   ]
  },
  {
   "cell_type": "code",
   "execution_count": 12,
   "id": "c0970037",
   "metadata": {
    "execution": {
     "iopub.execute_input": "2024-12-01T08:08:58.985881Z",
     "iopub.status.busy": "2024-12-01T08:08:58.985045Z",
     "iopub.status.idle": "2024-12-01T08:08:59.058747Z",
     "shell.execute_reply": "2024-12-01T08:08:59.057750Z"
    },
    "papermill": {
     "duration": 0.083705,
     "end_time": "2024-12-01T08:08:59.060867",
     "exception": false,
     "start_time": "2024-12-01T08:08:58.977162",
     "status": "completed"
    },
    "tags": []
   },
   "outputs": [
    {
     "data": {
      "text/html": [
       "<iframe\n",
       "    scrolling=\"no\"\n",
       "    width=\"100%\"\n",
       "    height=\"545px\"\n",
       "    src=\"iframe_figures/figure_12.html\"\n",
       "    frameborder=\"0\"\n",
       "    allowfullscreen\n",
       "></iframe>\n"
      ]
     },
     "metadata": {},
     "output_type": "display_data"
    }
   ],
   "source": [
    "# Plotting the dataset for Seattle\n",
    "\n",
    "# Aggregating the data to count occurrences of each neighbourhood\n",
    "counts = data2['neighbourhood'].value_counts()\n",
    "\n",
    "# Creating the bar chart\n",
    "fig = go.Figure()\n",
    "\n",
    "fig.add_trace(go.Bar(\n",
    "    x=counts.index,  # Neighbourhood as categories\n",
    "    y=counts.values,  # Counts of each room type\n",
    "    marker_color='LightSkyBlue'  # Set a color for the bars\n",
    "))\n",
    "\n",
    "# Customizing the layout\n",
    "fig.update_layout(\n",
    "    title=\"Distribution of Listings for Seattles' Neighbourhoods\",\n",
    "    xaxis_title=\"Neighbourhoods\",\n",
    "    yaxis_title=\"Count\",\n",
    "    template=\"plotly_white\"\n",
    ")\n",
    "\n",
    "# Set the renderer for Colab\n",
    "import plotly.io as pio\n",
    "pio.renderers.default = 'iframe'\n",
    "\n",
    "# Displaying the chart\n",
    "fig.show()"
   ]
  },
  {
   "cell_type": "markdown",
   "id": "e5077987",
   "metadata": {
    "papermill": {
     "duration": 0.006539,
     "end_time": "2024-12-01T08:08:59.074317",
     "exception": false,
     "start_time": "2024-12-01T08:08:59.067778",
     "status": "completed"
    },
    "tags": []
   },
   "source": [
    "The top 5 neighbourhoods to book an Airbnb in Seattle are Broadway (361), Belltown (343), University District (268), Wallingford (250), and Minor (245)"
   ]
  },
  {
   "cell_type": "markdown",
   "id": "8d15ad15",
   "metadata": {
    "papermill": {
     "duration": 0.006399,
     "end_time": "2024-12-01T08:08:59.087354",
     "exception": false,
     "start_time": "2024-12-01T08:08:59.080955",
     "status": "completed"
    },
    "tags": []
   },
   "source": [
    "# The following code and visualization will show the price (USD) vs room types in Denver and Seattle\n"
   ]
  },
  {
   "cell_type": "code",
   "execution_count": 13,
   "id": "467feb2c",
   "metadata": {
    "execution": {
     "iopub.execute_input": "2024-12-01T08:08:59.103185Z",
     "iopub.status.busy": "2024-12-01T08:08:59.102794Z",
     "iopub.status.idle": "2024-12-01T08:08:59.582085Z",
     "shell.execute_reply": "2024-12-01T08:08:59.580873Z"
    },
    "papermill": {
     "duration": 0.489661,
     "end_time": "2024-12-01T08:08:59.584408",
     "exception": false,
     "start_time": "2024-12-01T08:08:59.094747",
     "status": "completed"
    },
    "tags": []
   },
   "outputs": [
    {
     "data": {
      "text/html": [
       "<iframe\n",
       "    scrolling=\"no\"\n",
       "    width=\"100%\"\n",
       "    height=\"545px\"\n",
       "    src=\"iframe_figures/figure_13.html\"\n",
       "    frameborder=\"0\"\n",
       "    allowfullscreen\n",
       "></iframe>\n"
      ]
     },
     "metadata": {},
     "output_type": "display_data"
    }
   ],
   "source": [
    "# Drop rows with missing prices\n",
    "cleaned_data = data1.dropna(subset=['price'])\n",
    "\n",
    "# Create a box plot using Plotly\n",
    "fig = px.box(\n",
    "    cleaned_data,\n",
    "    x='room_type',\n",
    "    y='price',\n",
    "    color='room_type',\n",
    "    title='Box Plot of Prices by Room Type for Denver',\n",
    "    labels={'room_type': 'Room Type', 'price': 'Price (USD)'},\n",
    "    log_y=True  # Logarithmic scale for price\n",
    ")\n",
    "\n",
    "# Update layout for better visualization\n",
    "fig.update_layout(\n",
    "    xaxis_title='Room Type',\n",
    "    yaxis_title='Price (USD)',\n",
    "    legend_title='Room Type',\n",
    "    template='plotly_white'\n",
    ")\n",
    "\n",
    "fig.show()"
   ]
  },
  {
   "cell_type": "markdown",
   "id": "4dd03fb7",
   "metadata": {
    "papermill": {
     "duration": 0.006922,
     "end_time": "2024-12-01T08:08:59.598470",
     "exception": false,
     "start_time": "2024-12-01T08:08:59.591548",
     "status": "completed"
    },
    "tags": []
   },
   "source": [
    "In Denver the shared rooms tend to have a lower average price of 50 dollars and the highest average price goes to hotel rooms with it being 999 dollars. With the entire homes/apts have many outliers with the highest one being 99.71k in USD. "
   ]
  },
  {
   "cell_type": "code",
   "execution_count": 14,
   "id": "ba44368a",
   "metadata": {
    "execution": {
     "iopub.execute_input": "2024-12-01T08:08:59.614724Z",
     "iopub.status.busy": "2024-12-01T08:08:59.614309Z",
     "iopub.status.idle": "2024-12-01T08:08:59.750075Z",
     "shell.execute_reply": "2024-12-01T08:08:59.748972Z"
    },
    "papermill": {
     "duration": 0.14694,
     "end_time": "2024-12-01T08:08:59.752494",
     "exception": false,
     "start_time": "2024-12-01T08:08:59.605554",
     "status": "completed"
    },
    "tags": []
   },
   "outputs": [
    {
     "data": {
      "text/html": [
       "<iframe\n",
       "    scrolling=\"no\"\n",
       "    width=\"100%\"\n",
       "    height=\"545px\"\n",
       "    src=\"iframe_figures/figure_14.html\"\n",
       "    frameborder=\"0\"\n",
       "    allowfullscreen\n",
       "></iframe>\n"
      ]
     },
     "metadata": {},
     "output_type": "display_data"
    }
   ],
   "source": [
    "# Drop rows with missing prices\n",
    "cleaned_data = data2.dropna(subset=['price'])\n",
    "\n",
    "# Create a box plot using Plotly\n",
    "fig = px.box(\n",
    "    cleaned_data,\n",
    "    x='room_type',\n",
    "    y='price',\n",
    "    color='room_type',\n",
    "    title='Box Plot of Prices by Room Type for Seattle',\n",
    "    labels={'room_type': 'Room Type', 'price': 'Price (USD)'},\n",
    "    log_y=True  # Logarithmic scale for price\n",
    ")\n",
    "\n",
    "# Update layout for better visualization\n",
    "fig.update_layout(\n",
    "    xaxis_title='Room Type',\n",
    "    yaxis_title='Price (USD)',\n",
    "    legend_title='Room Type',\n",
    "    template='plotly_white'\n",
    ")\n",
    "\n",
    "fig.show()"
   ]
  },
  {
   "cell_type": "markdown",
   "id": "39423b55",
   "metadata": {
    "papermill": {
     "duration": 0.006916,
     "end_time": "2024-12-01T08:08:59.766993",
     "exception": false,
     "start_time": "2024-12-01T08:08:59.760077",
     "status": "completed"
    },
    "tags": []
   },
   "source": [
    "In Seattle the lowest average price would go to the shared rooms with it being 76.5 USD and the highest average would go to hotel rooms with it being 319 USD. Once again the entire homes/apts have outliers and with the highest one being 9,000 USD."
   ]
  },
  {
   "cell_type": "markdown",
   "id": "a567349d",
   "metadata": {
    "papermill": {
     "duration": 0.007505,
     "end_time": "2024-12-01T08:08:59.781694",
     "exception": false,
     "start_time": "2024-12-01T08:08:59.774189",
     "status": "completed"
    },
    "tags": []
   },
   "source": [
    "# Finally, we're going to be looking at the reviews over time for both Seattle and Denver"
   ]
  },
  {
   "cell_type": "code",
   "execution_count": 15,
   "id": "89118941",
   "metadata": {
    "execution": {
     "iopub.execute_input": "2024-12-01T08:08:59.797688Z",
     "iopub.status.busy": "2024-12-01T08:08:59.797284Z",
     "iopub.status.idle": "2024-12-01T08:09:00.187179Z",
     "shell.execute_reply": "2024-12-01T08:09:00.186001Z"
    },
    "papermill": {
     "duration": 0.400719,
     "end_time": "2024-12-01T08:09:00.189579",
     "exception": false,
     "start_time": "2024-12-01T08:08:59.788860",
     "status": "completed"
    },
    "tags": []
   },
   "outputs": [
    {
     "data": {
      "image/png": "[encoded data removed]",
      "text/plain": [
       "<Figure size 1300x800 with 1 Axes>"
      ]
     },
     "metadata": {},
     "output_type": "display_data"
    }
   ],
   "source": [
    "# Counting the reviews by the month and applying them to each year for Denver\n",
    "data1['last_review'] = pd.to_datetime(data1['last_review'])\n",
    "reviews_over_time = data1.groupby(data1['last_review'].dt.to_period('M')).size()\n",
    "\n",
    "# Plotting the graph\n",
    "plt.figure(figsize=(13, 8))\n",
    "reviews_over_time.plot(kind='line',color='red')\n",
    "plt.title('Number of Reviews Over Time for Denver')\n",
    "plt.xlabel('Date (YEAR)')\n",
    "plt.ylabel('Number of Reviews')\n",
    "plt.show()"
   ]
  },
  {
   "cell_type": "markdown",
   "id": "c54d0891",
   "metadata": {
    "papermill": {
     "duration": 0.007648,
     "end_time": "2024-12-01T08:09:00.205074",
     "exception": false,
     "start_time": "2024-12-01T08:09:00.197426",
     "status": "completed"
    },
    "tags": []
   },
   "source": [
    "As we can see there is a consistent line of reviews a little pass 2019, but once we got into the second half of 2023 we can there is a huge incline in Airbnb reviews in Denver. "
   ]
  },
  {
   "cell_type": "code",
   "execution_count": 16,
   "id": "2db63a6e",
   "metadata": {
    "execution": {
     "iopub.execute_input": "2024-12-01T08:09:00.221857Z",
     "iopub.status.busy": "2024-12-01T08:09:00.221450Z",
     "iopub.status.idle": "2024-12-01T08:09:00.603955Z",
     "shell.execute_reply": "2024-12-01T08:09:00.602736Z"
    },
    "papermill": {
     "duration": 0.393914,
     "end_time": "2024-12-01T08:09:00.606386",
     "exception": false,
     "start_time": "2024-12-01T08:09:00.212472",
     "status": "completed"
    },
    "tags": []
   },
   "outputs": [
    {
     "data": {
      "image/png": "[encoded data removed]",
      "text/plain": [
       "<Figure size 1200x600 with 1 Axes>"
      ]
     },
     "metadata": {},
     "output_type": "display_data"
    }
   ],
   "source": [
    "# Counting the reviews by the month and applying them to each year for Seattle\n",
    "data2['last_review'] = pd.to_datetime(data2['last_review'])\n",
    "reviews_over_time = data2.groupby(data2['last_review'].dt.to_period('M')).size()\n",
    "\n",
    "# Plotting the graph\n",
    "plt.figure(figsize=(12, 6))\n",
    "reviews_over_time.plot(kind='line',color='green')\n",
    "plt.title('Number of Reviews Over Time for Seattle')\n",
    "plt.xlabel('Date (YEAR)')\n",
    "plt.ylabel('Number of Reviews')\n",
    "plt.show()"
   ]
  },
  {
   "cell_type": "markdown",
   "id": "5b21b18f",
   "metadata": {
    "papermill": {
     "duration": 0.007787,
     "end_time": "2024-12-01T08:09:00.622380",
     "exception": false,
     "start_time": "2024-12-01T08:09:00.614593",
     "status": "completed"
    },
    "tags": []
   },
   "source": [
    "Once again there is a consistent line of reviews for Airbnbs in Seattle up until 2023, but once we get into the second half of that year there is a a little spike and then eventually in 2024 there is a huge spike in 2024. "
   ]
  }
 ],
 "metadata": {
  "kaggle": {
   "accelerator": "none",
   "dataSources": [
    {
     "datasetId": 6201947,
     "sourceId": 10063684,
     "sourceType": "datasetVersion"
    },
    {
     "datasetId": 6201961,
     "sourceId": 10063703,
     "sourceType": "datasetVersion"
    }
   ],
   "dockerImageVersionId": 30786,
   "isGpuEnabled": false,
   "isInternetEnabled": true,
   "language": "python",
   "sourceType": "notebook"
  },
  "kernelspec": {
   "display_name": "Python 3",
   "language": "python",
   "name": "python3"
  },
  "language_info": {
   "codemirror_mode": {
    "name": "ipython",
    "version": 3
   },
   "file_extension": ".py",
   "mimetype": "text/x-python",
   "name": "python",
   "nbconvert_exporter": "python",
   "pygments_lexer": "ipython3",
   "version": "3.10.14"
  },
  "papermill": {
   "default_parameters": {},
   "duration": 33.418964,
   "end_time": "2024-12-01T08:09:01.453976",
   "environment_variables": {},
   "exception": null,
   "input_path": "__notebook__.ipynb",
   "output_path": "__notebook__.ipynb",
   "parameters": {},
   "start_time": "2024-12-01T08:08:28.035012",
   "version": "2.6.0"
  }
 },
 "nbformat": 4,
 "nbformat_minor": 5
}
