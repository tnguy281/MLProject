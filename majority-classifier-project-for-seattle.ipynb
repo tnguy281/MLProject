{
 "cells": [
  {
   "cell_type": "code",
   "execution_count": 1,
   "id": "cc5b47ac",
   "metadata": {
    "_cell_guid": "b1076dfc-b9ad-4769-8c92-a6c4dae69d19",
    "_uuid": "8f2839f25d086af736a60e9eeb907d3b93b6e0e5",
    "execution": {
     "iopub.execute_input": "2024-12-02T03:39:13.677841Z",
     "iopub.status.busy": "2024-12-02T03:39:13.677425Z",
     "iopub.status.idle": "2024-12-02T03:39:13.694950Z",
     "shell.execute_reply": "2024-12-02T03:39:13.693824Z"
    },
    "papermill": {
     "duration": 0.027066,
     "end_time": "2024-12-02T03:39:13.697522",
     "exception": false,
     "start_time": "2024-12-02T03:39:13.670456",
     "status": "completed"
    },
    "tags": []
   },
   "outputs": [
    {
     "name": "stdout",
     "output_type": "stream",
     "text": [
      "/kaggle/input/seattle-listings/Seattle_listings.csv\n"
     ]
    }
   ],
   "source": [
    "# This Python 3 environment comes with many helpful analytics libraries installed\n",
    "# It is defined by the kaggle/python Docker image: https://github.com/kaggle/docker-python\n",
    "# For example, here's several helpful packages to load\n",
    "\n",
    "# Input data files are available in the read-only \"../input/\" directory\n",
    "# For example, running this (by clicking run or pressing Shift+Enter) will list all files under the input directory\n",
    "\n",
    "import os\n",
    "for dirname, _, filenames in os.walk('/kaggle/input'):\n",
    "    for filename in filenames:\n",
    "        print(os.path.join(dirname, filename))\n",
    "\n",
    "# You can write up to 20GB to the current directory (/kaggle/working/) that gets preserved as output when you create a version using \"Save & Run All\" \n",
    "# You can also write temporary files to /kaggle/temp/, but they won't be saved outside of the current session"
   ]
  },
  {
   "cell_type": "markdown",
   "id": "5b85c7c2",
   "metadata": {
    "papermill": {
     "duration": 0.005408,
     "end_time": "2024-12-02T03:39:13.710654",
     "exception": false,
     "start_time": "2024-12-02T03:39:13.705246",
     "status": "completed"
    },
    "tags": []
   },
   "source": [
    "# In this notebook we will be using the majority classifier class model to classify the neighbourhood groups from Seattle based on their amount of reviews reviews and their correlation with the room types available within the Airbnb bookings dataset (fix title when done with project)"
   ]
  },
  {
   "cell_type": "code",
   "execution_count": 2,
   "id": "80642c4b",
   "metadata": {
    "execution": {
     "iopub.execute_input": "2024-12-02T03:39:13.721471Z",
     "iopub.status.busy": "2024-12-02T03:39:13.721078Z",
     "iopub.status.idle": "2024-12-02T03:39:17.119905Z",
     "shell.execute_reply": "2024-12-02T03:39:17.118551Z"
    },
    "papermill": {
     "duration": 3.407193,
     "end_time": "2024-12-02T03:39:17.122433",
     "exception": false,
     "start_time": "2024-12-02T03:39:13.715240",
     "status": "completed"
    },
    "tags": []
   },
   "outputs": [],
   "source": [
    "# Importing necessary libraries\n",
    "\n",
    "import pandas as pd\n",
    "import numpy as np\n",
    "import matplotlib.pyplot as plt\n",
    "import seaborn as sns\n",
    "from sklearn.model_selection import train_test_split\n",
    "from sklearn.ensemble import RandomForestClassifier\n",
    "from sklearn.metrics import classification_report, accuracy_score\n",
    "from sklearn.impute import SimpleImputer\n",
    "from sklearn.preprocessing import LabelEncoder\n",
    "\n",
    "plt.style.use('ggplot') # makes the plots look better"
   ]
  },
  {
   "cell_type": "code",
   "execution_count": 3,
   "id": "681f98f6",
   "metadata": {
    "execution": {
     "iopub.execute_input": "2024-12-02T03:39:17.133805Z",
     "iopub.status.busy": "2024-12-02T03:39:17.132711Z",
     "iopub.status.idle": "2024-12-02T03:39:17.206384Z",
     "shell.execute_reply": "2024-12-02T03:39:17.205335Z"
    },
    "papermill": {
     "duration": 0.081841,
     "end_time": "2024-12-02T03:39:17.209004",
     "exception": false,
     "start_time": "2024-12-02T03:39:17.127163",
     "status": "completed"
    },
    "tags": []
   },
   "outputs": [],
   "source": [
    "# Importing the necessary csv files \n",
    "\n",
    "data = pd.read_csv(\"/kaggle/input/seattle-listings/Seattle_listings.csv\")"
   ]
  },
  {
   "cell_type": "markdown",
   "id": "ca0174c4",
   "metadata": {
    "papermill": {
     "duration": 0.004307,
     "end_time": "2024-12-02T03:39:17.218749",
     "exception": false,
     "start_time": "2024-12-02T03:39:17.214442",
     "status": "completed"
    },
    "tags": []
   },
   "source": [
    "# Within the next two tables, we're looking at the first 5 rows for both Seattle's dataset"
   ]
  },
  {
   "cell_type": "code",
   "execution_count": 4,
   "id": "6b235388",
   "metadata": {
    "execution": {
     "iopub.execute_input": "2024-12-02T03:39:17.229106Z",
     "iopub.status.busy": "2024-12-02T03:39:17.228715Z",
     "iopub.status.idle": "2024-12-02T03:39:17.256089Z",
     "shell.execute_reply": "2024-12-02T03:39:17.255055Z"
    },
    "papermill": {
     "duration": 0.035087,
     "end_time": "2024-12-02T03:39:17.258223",
     "exception": false,
     "start_time": "2024-12-02T03:39:17.223136",
     "status": "completed"
    },
    "tags": []
   },
   "outputs": [
    {
     "data": {
      "text/html": [
       "<div>\n",
       "<style scoped>\n",
       "    .dataframe tbody tr th:only-of-type {\n",
       "        vertical-align: middle;\n",
       "    }\n",
       "\n",
       "    .dataframe tbody tr th {\n",
       "        vertical-align: top;\n",
       "    }\n",
       "\n",
       "    .dataframe thead th {\n",
       "        text-align: right;\n",
       "    }\n",
       "</style>\n",
       "<table border=\"1\" class=\"dataframe\">\n",
       "  <thead>\n",
       "    <tr style=\"text-align: right;\">\n",
       "      <th></th>\n",
       "      <th>id</th>\n",
       "      <th>name</th>\n",
       "      <th>host_id</th>\n",
       "      <th>host_name</th>\n",
       "      <th>neighbourhood_group</th>\n",
       "      <th>neighbourhood</th>\n",
       "      <th>latitude</th>\n",
       "      <th>longitude</th>\n",
       "      <th>room_type</th>\n",
       "      <th>price</th>\n",
       "      <th>minimum_nights</th>\n",
       "      <th>number_of_reviews</th>\n",
       "      <th>last_review</th>\n",
       "      <th>reviews_per_month</th>\n",
       "      <th>calculated_host_listings_count</th>\n",
       "      <th>availability_365</th>\n",
       "      <th>number_of_reviews_ltm</th>\n",
       "      <th>license</th>\n",
       "    </tr>\n",
       "  </thead>\n",
       "  <tbody>\n",
       "    <tr>\n",
       "      <th>0</th>\n",
       "      <td>6606</td>\n",
       "      <td>Fab, private seattle urban cottage!</td>\n",
       "      <td>14942</td>\n",
       "      <td>Joyce</td>\n",
       "      <td>Other neighborhoods</td>\n",
       "      <td>Wallingford</td>\n",
       "      <td>47.65444</td>\n",
       "      <td>-122.33629</td>\n",
       "      <td>Entire home/apt</td>\n",
       "      <td>99.0</td>\n",
       "      <td>30</td>\n",
       "      <td>160</td>\n",
       "      <td>2023-08-05</td>\n",
       "      <td>0.88</td>\n",
       "      <td>2</td>\n",
       "      <td>147</td>\n",
       "      <td>1</td>\n",
       "      <td>str-opli-19-002622</td>\n",
       "    </tr>\n",
       "    <tr>\n",
       "      <th>1</th>\n",
       "      <td>9419</td>\n",
       "      <td>Glorious sun room w/ memory foambed</td>\n",
       "      <td>30559</td>\n",
       "      <td>Angielena</td>\n",
       "      <td>Other neighborhoods</td>\n",
       "      <td>Georgetown</td>\n",
       "      <td>47.55017</td>\n",
       "      <td>-122.31937</td>\n",
       "      <td>Private room</td>\n",
       "      <td>76.0</td>\n",
       "      <td>2</td>\n",
       "      <td>196</td>\n",
       "      <td>2024-06-09</td>\n",
       "      <td>1.16</td>\n",
       "      <td>10</td>\n",
       "      <td>337</td>\n",
       "      <td>15</td>\n",
       "      <td>Exempt</td>\n",
       "    </tr>\n",
       "    <tr>\n",
       "      <th>2</th>\n",
       "      <td>9531</td>\n",
       "      <td>The Adorable Sweet Orange Craftsman</td>\n",
       "      <td>31481</td>\n",
       "      <td>Cassie</td>\n",
       "      <td>West Seattle</td>\n",
       "      <td>Fairmount Park</td>\n",
       "      <td>47.55495</td>\n",
       "      <td>-122.38663</td>\n",
       "      <td>Entire home/apt</td>\n",
       "      <td>189.0</td>\n",
       "      <td>3</td>\n",
       "      <td>97</td>\n",
       "      <td>2024-06-16</td>\n",
       "      <td>0.64</td>\n",
       "      <td>2</td>\n",
       "      <td>133</td>\n",
       "      <td>23</td>\n",
       "      <td>STR-OPLI-19-002182</td>\n",
       "    </tr>\n",
       "    <tr>\n",
       "      <th>3</th>\n",
       "      <td>9534</td>\n",
       "      <td>The Coolest Tangerine Dream MIL!</td>\n",
       "      <td>31481</td>\n",
       "      <td>Cassie</td>\n",
       "      <td>West Seattle</td>\n",
       "      <td>Fairmount Park</td>\n",
       "      <td>47.55627</td>\n",
       "      <td>-122.38607</td>\n",
       "      <td>Entire home/apt</td>\n",
       "      <td>125.0</td>\n",
       "      <td>2</td>\n",
       "      <td>77</td>\n",
       "      <td>2023-12-27</td>\n",
       "      <td>0.51</td>\n",
       "      <td>2</td>\n",
       "      <td>1</td>\n",
       "      <td>2</td>\n",
       "      <td>STR-OPLI-19-002182</td>\n",
       "    </tr>\n",
       "    <tr>\n",
       "      <th>4</th>\n",
       "      <td>9596</td>\n",
       "      <td>the down home , spacious, central and fab!</td>\n",
       "      <td>14942</td>\n",
       "      <td>Joyce</td>\n",
       "      <td>Other neighborhoods</td>\n",
       "      <td>Wallingford</td>\n",
       "      <td>47.65608</td>\n",
       "      <td>-122.33602</td>\n",
       "      <td>Entire home/apt</td>\n",
       "      <td>NaN</td>\n",
       "      <td>30</td>\n",
       "      <td>96</td>\n",
       "      <td>2020-09-28</td>\n",
       "      <td>0.61</td>\n",
       "      <td>2</td>\n",
       "      <td>16</td>\n",
       "      <td>0</td>\n",
       "      <td>STR -OPLI-19-002622</td>\n",
       "    </tr>\n",
       "  </tbody>\n",
       "</table>\n",
       "</div>"
      ],
      "text/plain": [
       "     id                                        name  host_id  host_name  \\\n",
       "0  6606         Fab, private seattle urban cottage!    14942      Joyce   \n",
       "1  9419         Glorious sun room w/ memory foambed    30559  Angielena   \n",
       "2  9531         The Adorable Sweet Orange Craftsman    31481     Cassie   \n",
       "3  9534            The Coolest Tangerine Dream MIL!    31481     Cassie   \n",
       "4  9596  the down home , spacious, central and fab!    14942      Joyce   \n",
       "\n",
       "   neighbourhood_group   neighbourhood  latitude  longitude        room_type  \\\n",
       "0  Other neighborhoods     Wallingford  47.65444 -122.33629  Entire home/apt   \n",
       "1  Other neighborhoods      Georgetown  47.55017 -122.31937     Private room   \n",
       "2         West Seattle  Fairmount Park  47.55495 -122.38663  Entire home/apt   \n",
       "3         West Seattle  Fairmount Park  47.55627 -122.38607  Entire home/apt   \n",
       "4  Other neighborhoods     Wallingford  47.65608 -122.33602  Entire home/apt   \n",
       "\n",
       "   price  minimum_nights  number_of_reviews last_review  reviews_per_month  \\\n",
       "0   99.0              30                160  2023-08-05               0.88   \n",
       "1   76.0               2                196  2024-06-09               1.16   \n",
       "2  189.0               3                 97  2024-06-16               0.64   \n",
       "3  125.0               2                 77  2023-12-27               0.51   \n",
       "4    NaN              30                 96  2020-09-28               0.61   \n",
       "\n",
       "   calculated_host_listings_count  availability_365  number_of_reviews_ltm  \\\n",
       "0                               2               147                      1   \n",
       "1                              10               337                     15   \n",
       "2                               2               133                     23   \n",
       "3                               2                 1                      2   \n",
       "4                               2                16                      0   \n",
       "\n",
       "               license  \n",
       "0   str-opli-19-002622  \n",
       "1               Exempt  \n",
       "2   STR-OPLI-19-002182  \n",
       "3   STR-OPLI-19-002182  \n",
       "4  STR -OPLI-19-002622  "
      ]
     },
     "execution_count": 4,
     "metadata": {},
     "output_type": "execute_result"
    }
   ],
   "source": [
    "# Looking at the first 5 rows for Denver's dataset\n",
    "\n",
    "data.head()"
   ]
  },
  {
   "cell_type": "markdown",
   "id": "6cf5e8c3",
   "metadata": {
    "papermill": {
     "duration": 0.005103,
     "end_time": "2024-12-02T03:39:17.267856",
     "exception": false,
     "start_time": "2024-12-02T03:39:17.262753",
     "status": "completed"
    },
    "tags": []
   },
   "source": [
    "# Within the next two tables, we're looking at the calculated descriptive statistics for Seatle's dataset"
   ]
  },
  {
   "cell_type": "code",
   "execution_count": 5,
   "id": "9ae403ca",
   "metadata": {
    "execution": {
     "iopub.execute_input": "2024-12-02T03:39:17.278346Z",
     "iopub.status.busy": "2024-12-02T03:39:17.277979Z",
     "iopub.status.idle": "2024-12-02T03:39:17.322873Z",
     "shell.execute_reply": "2024-12-02T03:39:17.321662Z"
    },
    "papermill": {
     "duration": 0.052845,
     "end_time": "2024-12-02T03:39:17.325073",
     "exception": false,
     "start_time": "2024-12-02T03:39:17.272228",
     "status": "completed"
    },
    "tags": []
   },
   "outputs": [
    {
     "data": {
      "text/html": [
       "<div>\n",
       "<style scoped>\n",
       "    .dataframe tbody tr th:only-of-type {\n",
       "        vertical-align: middle;\n",
       "    }\n",
       "\n",
       "    .dataframe tbody tr th {\n",
       "        vertical-align: top;\n",
       "    }\n",
       "\n",
       "    .dataframe thead th {\n",
       "        text-align: right;\n",
       "    }\n",
       "</style>\n",
       "<table border=\"1\" class=\"dataframe\">\n",
       "  <thead>\n",
       "    <tr style=\"text-align: right;\">\n",
       "      <th></th>\n",
       "      <th>id</th>\n",
       "      <th>host_id</th>\n",
       "      <th>latitude</th>\n",
       "      <th>longitude</th>\n",
       "      <th>price</th>\n",
       "      <th>minimum_nights</th>\n",
       "      <th>number_of_reviews</th>\n",
       "      <th>reviews_per_month</th>\n",
       "      <th>calculated_host_listings_count</th>\n",
       "      <th>availability_365</th>\n",
       "      <th>number_of_reviews_ltm</th>\n",
       "    </tr>\n",
       "  </thead>\n",
       "  <tbody>\n",
       "    <tr>\n",
       "      <th>count</th>\n",
       "      <td>6.442000e+03</td>\n",
       "      <td>6.442000e+03</td>\n",
       "      <td>6442.000000</td>\n",
       "      <td>6442.000000</td>\n",
       "      <td>6011.000000</td>\n",
       "      <td>6442.000000</td>\n",
       "      <td>6442.000000</td>\n",
       "      <td>5601.000000</td>\n",
       "      <td>6442.000000</td>\n",
       "      <td>6442.000000</td>\n",
       "      <td>6442.000000</td>\n",
       "    </tr>\n",
       "    <tr>\n",
       "      <th>mean</th>\n",
       "      <td>4.778906e+17</td>\n",
       "      <td>1.561396e+08</td>\n",
       "      <td>47.626021</td>\n",
       "      <td>-122.334359</td>\n",
       "      <td>212.495092</td>\n",
       "      <td>11.127134</td>\n",
       "      <td>74.720584</td>\n",
       "      <td>2.264496</td>\n",
       "      <td>29.113319</td>\n",
       "      <td>183.257529</td>\n",
       "      <td>18.679913</td>\n",
       "    </tr>\n",
       "    <tr>\n",
       "      <th>std</th>\n",
       "      <td>4.635029e+17</td>\n",
       "      <td>1.730557e+08</td>\n",
       "      <td>0.048794</td>\n",
       "      <td>0.033425</td>\n",
       "      <td>222.397718</td>\n",
       "      <td>18.466967</td>\n",
       "      <td>114.938072</td>\n",
       "      <td>2.572886</td>\n",
       "      <td>77.237314</td>\n",
       "      <td>116.273916</td>\n",
       "      <td>22.792994</td>\n",
       "    </tr>\n",
       "    <tr>\n",
       "      <th>min</th>\n",
       "      <td>6.606000e+03</td>\n",
       "      <td>4.193000e+03</td>\n",
       "      <td>47.495874</td>\n",
       "      <td>-122.419040</td>\n",
       "      <td>10.000000</td>\n",
       "      <td>1.000000</td>\n",
       "      <td>0.000000</td>\n",
       "      <td>0.010000</td>\n",
       "      <td>1.000000</td>\n",
       "      <td>0.000000</td>\n",
       "      <td>0.000000</td>\n",
       "    </tr>\n",
       "    <tr>\n",
       "      <th>25%</th>\n",
       "      <td>3.418163e+07</td>\n",
       "      <td>1.987743e+07</td>\n",
       "      <td>47.601655</td>\n",
       "      <td>-122.357278</td>\n",
       "      <td>116.000000</td>\n",
       "      <td>2.000000</td>\n",
       "      <td>4.000000</td>\n",
       "      <td>0.670000</td>\n",
       "      <td>1.000000</td>\n",
       "      <td>81.000000</td>\n",
       "      <td>1.000000</td>\n",
       "    </tr>\n",
       "    <tr>\n",
       "      <th>50%</th>\n",
       "      <td>6.144249e+17</td>\n",
       "      <td>8.033375e+07</td>\n",
       "      <td>47.623220</td>\n",
       "      <td>-122.332260</td>\n",
       "      <td>167.000000</td>\n",
       "      <td>2.000000</td>\n",
       "      <td>29.000000</td>\n",
       "      <td>1.780000</td>\n",
       "      <td>2.000000</td>\n",
       "      <td>178.000000</td>\n",
       "      <td>10.000000</td>\n",
       "    </tr>\n",
       "    <tr>\n",
       "      <th>75%</th>\n",
       "      <td>9.319134e+17</td>\n",
       "      <td>2.552755e+08</td>\n",
       "      <td>47.663776</td>\n",
       "      <td>-122.310931</td>\n",
       "      <td>250.000000</td>\n",
       "      <td>30.000000</td>\n",
       "      <td>97.000000</td>\n",
       "      <td>3.320000</td>\n",
       "      <td>11.000000</td>\n",
       "      <td>295.000000</td>\n",
       "      <td>30.000000</td>\n",
       "    </tr>\n",
       "    <tr>\n",
       "      <th>max</th>\n",
       "      <td>1.185488e+18</td>\n",
       "      <td>5.848754e+08</td>\n",
       "      <td>47.734087</td>\n",
       "      <td>-122.240870</td>\n",
       "      <td>9000.000000</td>\n",
       "      <td>365.000000</td>\n",
       "      <td>1404.000000</td>\n",
       "      <td>101.200000</td>\n",
       "      <td>340.000000</td>\n",
       "      <td>365.000000</td>\n",
       "      <td>280.000000</td>\n",
       "    </tr>\n",
       "  </tbody>\n",
       "</table>\n",
       "</div>"
      ],
      "text/plain": [
       "                 id       host_id     latitude    longitude        price  \\\n",
       "count  6.442000e+03  6.442000e+03  6442.000000  6442.000000  6011.000000   \n",
       "mean   4.778906e+17  1.561396e+08    47.626021  -122.334359   212.495092   \n",
       "std    4.635029e+17  1.730557e+08     0.048794     0.033425   222.397718   \n",
       "min    6.606000e+03  4.193000e+03    47.495874  -122.419040    10.000000   \n",
       "25%    3.418163e+07  1.987743e+07    47.601655  -122.357278   116.000000   \n",
       "50%    6.144249e+17  8.033375e+07    47.623220  -122.332260   167.000000   \n",
       "75%    9.319134e+17  2.552755e+08    47.663776  -122.310931   250.000000   \n",
       "max    1.185488e+18  5.848754e+08    47.734087  -122.240870  9000.000000   \n",
       "\n",
       "       minimum_nights  number_of_reviews  reviews_per_month  \\\n",
       "count     6442.000000        6442.000000        5601.000000   \n",
       "mean        11.127134          74.720584           2.264496   \n",
       "std         18.466967         114.938072           2.572886   \n",
       "min          1.000000           0.000000           0.010000   \n",
       "25%          2.000000           4.000000           0.670000   \n",
       "50%          2.000000          29.000000           1.780000   \n",
       "75%         30.000000          97.000000           3.320000   \n",
       "max        365.000000        1404.000000         101.200000   \n",
       "\n",
       "       calculated_host_listings_count  availability_365  number_of_reviews_ltm  \n",
       "count                     6442.000000       6442.000000            6442.000000  \n",
       "mean                        29.113319        183.257529              18.679913  \n",
       "std                         77.237314        116.273916              22.792994  \n",
       "min                          1.000000          0.000000               0.000000  \n",
       "25%                          1.000000         81.000000               1.000000  \n",
       "50%                          2.000000        178.000000              10.000000  \n",
       "75%                         11.000000        295.000000              30.000000  \n",
       "max                        340.000000        365.000000             280.000000  "
      ]
     },
     "execution_count": 5,
     "metadata": {},
     "output_type": "execute_result"
    }
   ],
   "source": [
    "# Looking at the calculated descriptive statistics for each column within the dataset for Denver\n",
    "\n",
    "data.describe()"
   ]
  },
  {
   "cell_type": "markdown",
   "id": "aca96ff2",
   "metadata": {
    "papermill": {
     "duration": 0.004557,
     "end_time": "2024-12-02T03:39:17.334639",
     "exception": false,
     "start_time": "2024-12-02T03:39:17.330082",
     "status": "completed"
    },
    "tags": []
   },
   "source": [
    "# In the graphs below we're looking at a visual that will show us the correlation between the prices and the reviews that have been conducted per month and also for their room types"
   ]
  },
  {
   "cell_type": "code",
   "execution_count": 6,
   "id": "aed6872a",
   "metadata": {
    "execution": {
     "iopub.execute_input": "2024-12-02T03:39:17.346228Z",
     "iopub.status.busy": "2024-12-02T03:39:17.345404Z",
     "iopub.status.idle": "2024-12-02T03:39:17.676808Z",
     "shell.execute_reply": "2024-12-02T03:39:17.675581Z"
    },
    "papermill": {
     "duration": 0.339772,
     "end_time": "2024-12-02T03:39:17.679211",
     "exception": false,
     "start_time": "2024-12-02T03:39:17.339439",
     "status": "completed"
    },
    "tags": []
   },
   "outputs": [
    {
     "data": {
      "image/png": "[encoded data removed]",
      "text/plain": [
       "<Figure size 640x480 with 1 Axes>"
      ]
     },
     "metadata": {},
     "output_type": "display_data"
    }
   ],
   "source": [
    "# Graph for Seattle\n",
    "\n",
    "data.plot.scatter(x='price', y='reviews_per_month')\n",
    "\n",
    "plt.show()"
   ]
  },
  {
   "cell_type": "code",
   "execution_count": 7,
   "id": "0e1729e0",
   "metadata": {
    "execution": {
     "iopub.execute_input": "2024-12-02T03:39:17.692857Z",
     "iopub.status.busy": "2024-12-02T03:39:17.692435Z",
     "iopub.status.idle": "2024-12-02T03:39:18.411788Z",
     "shell.execute_reply": "2024-12-02T03:39:18.410575Z"
    },
    "papermill": {
     "duration": 0.728697,
     "end_time": "2024-12-02T03:39:18.414030",
     "exception": false,
     "start_time": "2024-12-02T03:39:17.685333",
     "status": "completed"
    },
    "tags": []
   },
   "outputs": [
    {
     "data": {
      "image/png": "[encoded data removed]",
      "text/plain": [
       "<Figure size 1362.12x800 with 1 Axes>"
      ]
     },
     "metadata": {},
     "output_type": "display_data"
    }
   ],
   "source": [
    "# Graph for Seattle\n",
    "\n",
    "sns.FacetGrid(data, hue=\"room_type\", height=8, aspect=1.5) \\\n",
    "   .map(plt.scatter, 'price', 'reviews_per_month') \\\n",
    "   .add_legend()\n",
    "\n",
    "plt.show()"
   ]
  },
  {
   "cell_type": "markdown",
   "id": "d5f30fc1",
   "metadata": {
    "papermill": {
     "duration": 0.005785,
     "end_time": "2024-12-02T03:39:18.425886",
     "exception": false,
     "start_time": "2024-12-02T03:39:18.420101",
     "status": "completed"
    },
    "tags": []
   },
   "source": [
    "# Now we will be prepping the dataset, so that we only have to worry about the categories that matters"
   ]
  },
  {
   "cell_type": "code",
   "execution_count": 8,
   "id": "625ff245",
   "metadata": {
    "execution": {
     "iopub.execute_input": "2024-12-02T03:39:18.439156Z",
     "iopub.status.busy": "2024-12-02T03:39:18.438772Z",
     "iopub.status.idle": "2024-12-02T03:39:18.455949Z",
     "shell.execute_reply": "2024-12-02T03:39:18.454811Z"
    },
    "papermill": {
     "duration": 0.026679,
     "end_time": "2024-12-02T03:39:18.458446",
     "exception": false,
     "start_time": "2024-12-02T03:39:18.431767",
     "status": "completed"
    },
    "tags": []
   },
   "outputs": [
    {
     "name": "stderr",
     "output_type": "stream",
     "text": [
      "/tmp/ipykernel_17/1574145935.py:6: SettingWithCopyWarning: \n",
      "A value is trying to be set on a copy of a slice from a DataFrame.\n",
      "Try using .loc[row_indexer,col_indexer] = value instead\n",
      "\n",
      "See the caveats in the documentation: https://pandas.pydata.org/pandas-docs/stable/user_guide/indexing.html#returning-a-view-versus-a-copy\n",
      "  data[['price', 'reviews_per_month']] = imputer.fit_transform(data[['price', 'reviews_per_month']])\n",
      "/tmp/ipykernel_17/1574145935.py:10: SettingWithCopyWarning: \n",
      "A value is trying to be set on a copy of a slice from a DataFrame.\n",
      "Try using .loc[row_indexer,col_indexer] = value instead\n",
      "\n",
      "See the caveats in the documentation: https://pandas.pydata.org/pandas-docs/stable/user_guide/indexing.html#returning-a-view-versus-a-copy\n",
      "  data['room_type'] = label_encoder.fit_transform(data['room_type'])\n"
     ]
    }
   ],
   "source": [
    "# Keeping only relevant columns\n",
    "data = data[['price', 'reviews_per_month', 'room_type']]\n",
    "\n",
    "# Handle missing values\n",
    "imputer = SimpleImputer(strategy='mean')  # Impute missing values with the mean\n",
    "data[['price', 'reviews_per_month']] = imputer.fit_transform(data[['price', 'reviews_per_month']])\n",
    "\n",
    "# Encode the target variable (`room_type`) as numbers\n",
    "label_encoder = LabelEncoder()\n",
    "data['room_type'] = label_encoder.fit_transform(data['room_type'])"
   ]
  },
  {
   "cell_type": "markdown",
   "id": "738ab54a",
   "metadata": {
    "papermill": {
     "duration": 0.005867,
     "end_time": "2024-12-02T03:39:18.470517",
     "exception": false,
     "start_time": "2024-12-02T03:39:18.464650",
     "status": "completed"
    },
    "tags": []
   },
   "source": [
    "# We will be splitting the data to train and test"
   ]
  },
  {
   "cell_type": "code",
   "execution_count": 9,
   "id": "9194ea5b",
   "metadata": {
    "execution": {
     "iopub.execute_input": "2024-12-02T03:39:18.483919Z",
     "iopub.status.busy": "2024-12-02T03:39:18.483530Z",
     "iopub.status.idle": "2024-12-02T03:39:18.489583Z",
     "shell.execute_reply": "2024-12-02T03:39:18.488578Z"
    },
    "papermill": {
     "duration": 0.01527,
     "end_time": "2024-12-02T03:39:18.491683",
     "exception": false,
     "start_time": "2024-12-02T03:39:18.476413",
     "status": "completed"
    },
    "tags": []
   },
   "outputs": [],
   "source": [
    "# Train-Test Split\n",
    "X = data[['price', 'reviews_per_month']]  # Features\n",
    "y = data['room_type']                     # Target"
   ]
  },
  {
   "cell_type": "code",
   "execution_count": 10,
   "id": "79e8861c",
   "metadata": {
    "execution": {
     "iopub.execute_input": "2024-12-02T03:39:18.505995Z",
     "iopub.status.busy": "2024-12-02T03:39:18.505256Z",
     "iopub.status.idle": "2024-12-02T03:39:18.514155Z",
     "shell.execute_reply": "2024-12-02T03:39:18.512927Z"
    },
    "papermill": {
     "duration": 0.018659,
     "end_time": "2024-12-02T03:39:18.516398",
     "exception": false,
     "start_time": "2024-12-02T03:39:18.497739",
     "status": "completed"
    },
    "tags": []
   },
   "outputs": [],
   "source": [
    "X_train, X_test, y_train, y_test = train_test_split(X, y, test_size=0.2, random_state=42)"
   ]
  },
  {
   "cell_type": "markdown",
   "id": "b639882a",
   "metadata": {
    "papermill": {
     "duration": 0.005715,
     "end_time": "2024-12-02T03:39:18.528295",
     "exception": false,
     "start_time": "2024-12-02T03:39:18.522580",
     "status": "completed"
    },
    "tags": []
   },
   "source": [
    "# Training the RandomForestClassifier"
   ]
  },
  {
   "cell_type": "code",
   "execution_count": 11,
   "id": "08759bfd",
   "metadata": {
    "execution": {
     "iopub.execute_input": "2024-12-02T03:39:18.542410Z",
     "iopub.status.busy": "2024-12-02T03:39:18.541452Z",
     "iopub.status.idle": "2024-12-02T03:39:19.170429Z",
     "shell.execute_reply": "2024-12-02T03:39:19.169272Z"
    },
    "papermill": {
     "duration": 0.638784,
     "end_time": "2024-12-02T03:39:19.173016",
     "exception": false,
     "start_time": "2024-12-02T03:39:18.534232",
     "status": "completed"
    },
    "tags": []
   },
   "outputs": [
    {
     "data": {
      "text/html": [
       "<style>#sk-container-id-1 {color: black;background-color: white;}#sk-container-id-1 pre{padding: 0;}#sk-container-id-1 div.sk-toggleable {background-color: white;}#sk-container-id-1 label.sk-toggleable__label {cursor: pointer;display: block;width: 100%;margin-bottom: 0;padding: 0.3em;box-sizing: border-box;text-align: center;}#sk-container-id-1 label.sk-toggleable__label-arrow:before {content: \"▸\";float: left;margin-right: 0.25em;color: #696969;}#sk-container-id-1 label.sk-toggleable__label-arrow:hover:before {color: black;}#sk-container-id-1 div.sk-estimator:hover label.sk-toggleable__label-arrow:before {color: black;}#sk-container-id-1 div.sk-toggleable__content {max-height: 0;max-width: 0;overflow: hidden;text-align: left;background-color: #f0f8ff;}#sk-container-id-1 div.sk-toggleable__content pre {margin: 0.2em;color: black;border-radius: 0.25em;background-color: #f0f8ff;}#sk-container-id-1 input.sk-toggleable__control:checked~div.sk-toggleable__content {max-height: 200px;max-width: 100%;overflow: auto;}#sk-container-id-1 input.sk-toggleable__control:checked~label.sk-toggleable__label-arrow:before {content: \"▾\";}#sk-container-id-1 div.sk-estimator input.sk-toggleable__control:checked~label.sk-toggleable__label {background-color: #d4ebff;}#sk-container-id-1 div.sk-label input.sk-toggleable__control:checked~label.sk-toggleable__label {background-color: #d4ebff;}#sk-container-id-1 input.sk-hidden--visually {border: 0;clip: rect(1px 1px 1px 1px);clip: rect(1px, 1px, 1px, 1px);height: 1px;margin: -1px;overflow: hidden;padding: 0;position: absolute;width: 1px;}#sk-container-id-1 div.sk-estimator {font-family: monospace;background-color: #f0f8ff;border: 1px dotted black;border-radius: 0.25em;box-sizing: border-box;margin-bottom: 0.5em;}#sk-container-id-1 div.sk-estimator:hover {background-color: #d4ebff;}#sk-container-id-1 div.sk-parallel-item::after {content: \"\";width: 100%;border-bottom: 1px solid gray;flex-grow: 1;}#sk-container-id-1 div.sk-label:hover label.sk-toggleable__label {background-color: #d4ebff;}#sk-container-id-1 div.sk-serial::before {content: \"\";position: absolute;border-left: 1px solid gray;box-sizing: border-box;top: 0;bottom: 0;left: 50%;z-index: 0;}#sk-container-id-1 div.sk-serial {display: flex;flex-direction: column;align-items: center;background-color: white;padding-right: 0.2em;padding-left: 0.2em;position: relative;}#sk-container-id-1 div.sk-item {position: relative;z-index: 1;}#sk-container-id-1 div.sk-parallel {display: flex;align-items: stretch;justify-content: center;background-color: white;position: relative;}#sk-container-id-1 div.sk-item::before, #sk-container-id-1 div.sk-parallel-item::before {content: \"\";position: absolute;border-left: 1px solid gray;box-sizing: border-box;top: 0;bottom: 0;left: 50%;z-index: -1;}#sk-container-id-1 div.sk-parallel-item {display: flex;flex-direction: column;z-index: 1;position: relative;background-color: white;}#sk-container-id-1 div.sk-parallel-item:first-child::after {align-self: flex-end;width: 50%;}#sk-container-id-1 div.sk-parallel-item:last-child::after {align-self: flex-start;width: 50%;}#sk-container-id-1 div.sk-parallel-item:only-child::after {width: 0;}#sk-container-id-1 div.sk-dashed-wrapped {border: 1px dashed gray;margin: 0 0.4em 0.5em 0.4em;box-sizing: border-box;padding-bottom: 0.4em;background-color: white;}#sk-container-id-1 div.sk-label label {font-family: monospace;font-weight: bold;display: inline-block;line-height: 1.2em;}#sk-container-id-1 div.sk-label-container {text-align: center;}#sk-container-id-1 div.sk-container {/* jupyter's `normalize.less` sets `[hidden] { display: none; }` but bootstrap.min.css set `[hidden] { display: none !important; }` so we also need the `!important` here to be able to override the default hidden behavior on the sphinx rendered scikit-learn.org. See: https://github.com/scikit-learn/scikit-learn/issues/21755 */display: inline-block !important;position: relative;}#sk-container-id-1 div.sk-text-repr-fallback {display: none;}</style><div id=\"sk-container-id-1\" class=\"sk-top-container\"><div class=\"sk-text-repr-fallback\"><pre>RandomForestClassifier(random_state=42)</pre><b>In a Jupyter environment, please rerun this cell to show the HTML representation or trust the notebook. <br />On GitHub, the HTML representation is unable to render, please try loading this page with nbviewer.org.</b></div><div class=\"sk-container\" hidden><div class=\"sk-item\"><div class=\"sk-estimator sk-toggleable\"><input class=\"sk-toggleable__control sk-hidden--visually\" id=\"sk-estimator-id-1\" type=\"checkbox\" checked><label for=\"sk-estimator-id-1\" class=\"sk-toggleable__label sk-toggleable__label-arrow\">RandomForestClassifier</label><div class=\"sk-toggleable__content\"><pre>RandomForestClassifier(random_state=42)</pre></div></div></div></div></div>"
      ],
      "text/plain": [
       "RandomForestClassifier(random_state=42)"
      ]
     },
     "execution_count": 11,
     "metadata": {},
     "output_type": "execute_result"
    }
   ],
   "source": [
    "# Train RandomForestClassifier\n",
    "clf = RandomForestClassifier(random_state=42)\n",
    "clf.fit(X_train, y_train)"
   ]
  },
  {
   "cell_type": "code",
   "execution_count": 12,
   "id": "c5c3cf8b",
   "metadata": {
    "execution": {
     "iopub.execute_input": "2024-12-02T03:39:19.188534Z",
     "iopub.status.busy": "2024-12-02T03:39:19.188121Z",
     "iopub.status.idle": "2024-12-02T03:39:19.226235Z",
     "shell.execute_reply": "2024-12-02T03:39:19.225225Z"
    },
    "papermill": {
     "duration": 0.048967,
     "end_time": "2024-12-02T03:39:19.228686",
     "exception": false,
     "start_time": "2024-12-02T03:39:19.179719",
     "status": "completed"
    },
    "tags": []
   },
   "outputs": [],
   "source": [
    "# Make Predictions and Evaluate\n",
    "y_pred = clf.predict(X_test)"
   ]
  },
  {
   "cell_type": "markdown",
   "id": "27127920",
   "metadata": {
    "papermill": {
     "duration": 0.006831,
     "end_time": "2024-12-02T03:39:19.241944",
     "exception": false,
     "start_time": "2024-12-02T03:39:19.235113",
     "status": "completed"
    },
    "tags": []
   },
   "source": [
    "# Making the predictions and seeing the results"
   ]
  },
  {
   "cell_type": "code",
   "execution_count": 13,
   "id": "1b1f433c",
   "metadata": {
    "execution": {
     "iopub.execute_input": "2024-12-02T03:39:19.256571Z",
     "iopub.status.busy": "2024-12-02T03:39:19.256167Z",
     "iopub.status.idle": "2024-12-02T03:39:19.271945Z",
     "shell.execute_reply": "2024-12-02T03:39:19.270536Z"
    },
    "papermill": {
     "duration": 0.025862,
     "end_time": "2024-12-02T03:39:19.274338",
     "exception": false,
     "start_time": "2024-12-02T03:39:19.248476",
     "status": "completed"
    },
    "tags": []
   },
   "outputs": [
    {
     "name": "stdout",
     "output_type": "stream",
     "text": [
      "Accuracy: 0.8704422032583398\n",
      "\n",
      "Classification Report:\n",
      "              precision    recall  f1-score   support\n",
      "\n",
      "           0       0.91      0.95      0.93      1078\n",
      "           1       1.00      0.75      0.86         4\n",
      "           2       0.62      0.49      0.55       204\n",
      "           3       0.00      0.00      0.00         3\n",
      "\n",
      "    accuracy                           0.87      1289\n",
      "   macro avg       0.63      0.55      0.58      1289\n",
      "weighted avg       0.86      0.87      0.86      1289\n",
      "\n"
     ]
    }
   ],
   "source": [
    "# Print classification metrics\n",
    "print(\"Accuracy:\", accuracy_score(y_test, y_pred))\n",
    "print(\"\\nClassification Report:\")\n",
    "print(classification_report(y_test, y_pred))"
   ]
  }
 ],
 "metadata": {
  "kaggle": {
   "accelerator": "none",
   "dataSources": [
    {
     "datasetId": 6201961,
     "sourceId": 10063703,
     "sourceType": "datasetVersion"
    }
   ],
   "dockerImageVersionId": 30786,
   "isGpuEnabled": false,
   "isInternetEnabled": true,
   "language": "python",
   "sourceType": "notebook"
  },
  "kernelspec": {
   "display_name": "Python 3",
   "language": "python",
   "name": "python3"
  },
  "language_info": {
   "codemirror_mode": {
    "name": "ipython",
    "version": 3
   },
   "file_extension": ".py",
   "mimetype": "text/x-python",
   "name": "python",
   "nbconvert_exporter": "python",
   "pygments_lexer": "ipython3",
   "version": "3.10.14"
  },
  "papermill": {
   "default_parameters": {},
   "duration": 9.159149,
   "end_time": "2024-12-02T03:39:20.002979",
   "environment_variables": {},
   "exception": null,
   "input_path": "__notebook__.ipynb",
   "output_path": "__notebook__.ipynb",
   "parameters": {},
   "start_time": "2024-12-02T03:39:10.843830",
   "version": "2.6.0"
  }
 },
 "nbformat": 4,
 "nbformat_minor": 5
}
